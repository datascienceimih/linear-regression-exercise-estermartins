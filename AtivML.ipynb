{
  "nbformat": 4,
  "nbformat_minor": 0,
  "metadata": {
    "colab": {
      "name": "AtivML.ipynb",
      "version": "0.3.2",
      "provenance": [],
      "collapsed_sections": []
    },
    "kernelspec": {
      "name": "python3",
      "display_name": "Python 3"
    }
  },
  "cells": [
    {
      "metadata": {
        "id": "GBU08K8h4vRi",
        "colab_type": "text"
      },
      "cell_type": "markdown",
      "source": [
        "# Atividade Avaliativa de Machine Learning\n",
        "\n",
        "Professor: Neylson Crepalde\n",
        "\n",
        "Aluno: Ester Pereira Martins\n",
        "\n",
        "Data: 11/03/2019\n"
      ]
    },
    {
      "metadata": {
        "id": "-TJww5mD4Vqj",
        "colab_type": "text"
      },
      "cell_type": "markdown",
      "source": [
        "# Regressão Linear\n",
        "\n",
        "**Exercício 1**\n",
        "\n",
        "1 - Abra o banco de dados Boston e estime 3 regressões:\n",
        "\n",
        "A primeira prevendo medv usando como preditor lstat;\n",
        "\n",
        "A segunda prevendo medv usando como preditor age;\n",
        "\n",
        "A terceira usando ambos os preditores.\n",
        "\n",
        "O que podemos dizer sobre o comportamento dos coeficientes estimados? E sobre o ajuste dos modelos?\n"
      ]
    },
    {
      "metadata": {
        "id": "vJZRYEhD4hx9",
        "colab_type": "code",
        "colab": {}
      },
      "cell_type": "code",
      "source": [
        "import pandas as pd\n",
        "import statsmodels.formula.api as sms\n",
        "import matplotlib.pyplot as plt\n",
        "import numpy as np\n",
        "% matplotlib inline"
      ],
      "execution_count": 0,
      "outputs": []
    },
    {
      "metadata": {
        "id": "tbYFTAMR_WUt",
        "colab_type": "code",
        "outputId": "1b8f6916-2097-426a-fd8f-40b2dc010a4e",
        "colab": {
          "base_uri": "https://localhost:8080/",
          "height": 278
        }
      },
      "cell_type": "code",
      "source": [
        "# Lendo os dados\n",
        "boston = pd.DataFrame.from_csv(\"https://raw.githubusercontent.com/selva86/datasets/master/BostonHousing.csv\")\n",
        "boston.head()"
      ],
      "execution_count": 3,
      "outputs": [
        {
          "output_type": "stream",
          "text": [
            "/usr/local/lib/python3.6/dist-packages/ipykernel_launcher.py:1: FutureWarning: from_csv is deprecated. Please use read_csv(...) instead. Note that some of the default arguments are different, so please refer to the documentation for from_csv when changing your function calls\n",
            "  \"\"\"Entry point for launching an IPython kernel.\n"
          ],
          "name": "stderr"
        },
        {
          "output_type": "execute_result",
          "data": {
            "text/html": [
              "<div>\n",
              "<style scoped>\n",
              "    .dataframe tbody tr th:only-of-type {\n",
              "        vertical-align: middle;\n",
              "    }\n",
              "\n",
              "    .dataframe tbody tr th {\n",
              "        vertical-align: top;\n",
              "    }\n",
              "\n",
              "    .dataframe thead th {\n",
              "        text-align: right;\n",
              "    }\n",
              "</style>\n",
              "<table border=\"1\" class=\"dataframe\">\n",
              "  <thead>\n",
              "    <tr style=\"text-align: right;\">\n",
              "      <th></th>\n",
              "      <th>zn</th>\n",
              "      <th>indus</th>\n",
              "      <th>chas</th>\n",
              "      <th>nox</th>\n",
              "      <th>rm</th>\n",
              "      <th>age</th>\n",
              "      <th>dis</th>\n",
              "      <th>rad</th>\n",
              "      <th>tax</th>\n",
              "      <th>ptratio</th>\n",
              "      <th>b</th>\n",
              "      <th>lstat</th>\n",
              "      <th>medv</th>\n",
              "    </tr>\n",
              "    <tr>\n",
              "      <th>crim</th>\n",
              "      <th></th>\n",
              "      <th></th>\n",
              "      <th></th>\n",
              "      <th></th>\n",
              "      <th></th>\n",
              "      <th></th>\n",
              "      <th></th>\n",
              "      <th></th>\n",
              "      <th></th>\n",
              "      <th></th>\n",
              "      <th></th>\n",
              "      <th></th>\n",
              "      <th></th>\n",
              "    </tr>\n",
              "  </thead>\n",
              "  <tbody>\n",
              "    <tr>\n",
              "      <th>0.00632</th>\n",
              "      <td>18.0</td>\n",
              "      <td>2.31</td>\n",
              "      <td>0</td>\n",
              "      <td>0.538</td>\n",
              "      <td>6.575</td>\n",
              "      <td>65.2</td>\n",
              "      <td>4.0900</td>\n",
              "      <td>1</td>\n",
              "      <td>296</td>\n",
              "      <td>15.3</td>\n",
              "      <td>396.90</td>\n",
              "      <td>4.98</td>\n",
              "      <td>24.0</td>\n",
              "    </tr>\n",
              "    <tr>\n",
              "      <th>0.02731</th>\n",
              "      <td>0.0</td>\n",
              "      <td>7.07</td>\n",
              "      <td>0</td>\n",
              "      <td>0.469</td>\n",
              "      <td>6.421</td>\n",
              "      <td>78.9</td>\n",
              "      <td>4.9671</td>\n",
              "      <td>2</td>\n",
              "      <td>242</td>\n",
              "      <td>17.8</td>\n",
              "      <td>396.90</td>\n",
              "      <td>9.14</td>\n",
              "      <td>21.6</td>\n",
              "    </tr>\n",
              "    <tr>\n",
              "      <th>0.02729</th>\n",
              "      <td>0.0</td>\n",
              "      <td>7.07</td>\n",
              "      <td>0</td>\n",
              "      <td>0.469</td>\n",
              "      <td>7.185</td>\n",
              "      <td>61.1</td>\n",
              "      <td>4.9671</td>\n",
              "      <td>2</td>\n",
              "      <td>242</td>\n",
              "      <td>17.8</td>\n",
              "      <td>392.83</td>\n",
              "      <td>4.03</td>\n",
              "      <td>34.7</td>\n",
              "    </tr>\n",
              "    <tr>\n",
              "      <th>0.03237</th>\n",
              "      <td>0.0</td>\n",
              "      <td>2.18</td>\n",
              "      <td>0</td>\n",
              "      <td>0.458</td>\n",
              "      <td>6.998</td>\n",
              "      <td>45.8</td>\n",
              "      <td>6.0622</td>\n",
              "      <td>3</td>\n",
              "      <td>222</td>\n",
              "      <td>18.7</td>\n",
              "      <td>394.63</td>\n",
              "      <td>2.94</td>\n",
              "      <td>33.4</td>\n",
              "    </tr>\n",
              "    <tr>\n",
              "      <th>0.06905</th>\n",
              "      <td>0.0</td>\n",
              "      <td>2.18</td>\n",
              "      <td>0</td>\n",
              "      <td>0.458</td>\n",
              "      <td>7.147</td>\n",
              "      <td>54.2</td>\n",
              "      <td>6.0622</td>\n",
              "      <td>3</td>\n",
              "      <td>222</td>\n",
              "      <td>18.7</td>\n",
              "      <td>396.90</td>\n",
              "      <td>5.33</td>\n",
              "      <td>36.2</td>\n",
              "    </tr>\n",
              "  </tbody>\n",
              "</table>\n",
              "</div>"
            ],
            "text/plain": [
              "           zn  indus  chas    nox     rm   age     dis  rad  tax  ptratio  \\\n",
              "crim                                                                        \n",
              "0.00632  18.0   2.31     0  0.538  6.575  65.2  4.0900    1  296     15.3   \n",
              "0.02731   0.0   7.07     0  0.469  6.421  78.9  4.9671    2  242     17.8   \n",
              "0.02729   0.0   7.07     0  0.469  7.185  61.1  4.9671    2  242     17.8   \n",
              "0.03237   0.0   2.18     0  0.458  6.998  45.8  6.0622    3  222     18.7   \n",
              "0.06905   0.0   2.18     0  0.458  7.147  54.2  6.0622    3  222     18.7   \n",
              "\n",
              "              b  lstat  medv  \n",
              "crim                          \n",
              "0.00632  396.90   4.98  24.0  \n",
              "0.02731  396.90   9.14  21.6  \n",
              "0.02729  392.83   4.03  34.7  \n",
              "0.03237  394.63   2.94  33.4  \n",
              "0.06905  396.90   5.33  36.2  "
            ]
          },
          "metadata": {
            "tags": []
          },
          "execution_count": 3
        }
      ]
    },
    {
      "metadata": {
        "id": "nEipzJZOGJbE",
        "colab_type": "code",
        "outputId": "807b66bb-c085-43fb-e447-19c480282a16",
        "colab": {
          "base_uri": "https://localhost:8080/",
          "height": 437
        }
      },
      "cell_type": "code",
      "source": [
        "# Preditor lstat\n",
        "reg1 = sms.ols(formula=\"medv~lstat\", data=boston).fit()\n",
        "print(reg1.summary())"
      ],
      "execution_count": 4,
      "outputs": [
        {
          "output_type": "stream",
          "text": [
            "                            OLS Regression Results                            \n",
            "==============================================================================\n",
            "Dep. Variable:                   medv   R-squared:                       0.544\n",
            "Model:                            OLS   Adj. R-squared:                  0.543\n",
            "Method:                 Least Squares   F-statistic:                     601.6\n",
            "Date:                Tue, 02 Apr 2019   Prob (F-statistic):           5.08e-88\n",
            "Time:                        17:25:05   Log-Likelihood:                -1641.5\n",
            "No. Observations:                 506   AIC:                             3287.\n",
            "Df Residuals:                     504   BIC:                             3295.\n",
            "Df Model:                           1                                         \n",
            "Covariance Type:            nonrobust                                         \n",
            "==============================================================================\n",
            "                 coef    std err          t      P>|t|      [0.025      0.975]\n",
            "------------------------------------------------------------------------------\n",
            "Intercept     34.5538      0.563     61.415      0.000      33.448      35.659\n",
            "lstat         -0.9500      0.039    -24.528      0.000      -1.026      -0.874\n",
            "==============================================================================\n",
            "Omnibus:                      137.043   Durbin-Watson:                   0.892\n",
            "Prob(Omnibus):                  0.000   Jarque-Bera (JB):              291.373\n",
            "Skew:                           1.453   Prob(JB):                     5.36e-64\n",
            "Kurtosis:                       5.319   Cond. No.                         29.7\n",
            "==============================================================================\n",
            "\n",
            "Warnings:\n",
            "[1] Standard Errors assume that the covariance matrix of the errors is correctly specified.\n"
          ],
          "name": "stdout"
        }
      ]
    },
    {
      "metadata": {
        "id": "1KK9ysL6KPef",
        "colab_type": "text"
      },
      "cell_type": "markdown",
      "source": [
        "*Para lstat=0, estima-se medv=34.553.*\n",
        "\n",
        "*Para cada aumento de uma unidade em lstat, estima-se um aumento de 0,95 em medv. *\n",
        "\n",
        "*O p-value é menor do que 0,05, não significativo.*"
      ]
    },
    {
      "metadata": {
        "id": "TTD8ZZf2KQfI",
        "colab_type": "code",
        "outputId": "b40f3bd3-5b88-4110-8a67-f7fa39c194a9",
        "colab": {
          "base_uri": "https://localhost:8080/",
          "height": 437
        }
      },
      "cell_type": "code",
      "source": [
        "# Preditor age\n",
        "reg2 = sms.ols(formula=\"medv~age\", data=boston).fit()\n",
        "print(reg2.summary())"
      ],
      "execution_count": 5,
      "outputs": [
        {
          "output_type": "stream",
          "text": [
            "                            OLS Regression Results                            \n",
            "==============================================================================\n",
            "Dep. Variable:                   medv   R-squared:                       0.142\n",
            "Model:                            OLS   Adj. R-squared:                  0.140\n",
            "Method:                 Least Squares   F-statistic:                     83.48\n",
            "Date:                Tue, 02 Apr 2019   Prob (F-statistic):           1.57e-18\n",
            "Time:                        17:25:08   Log-Likelihood:                -1801.5\n",
            "No. Observations:                 506   AIC:                             3607.\n",
            "Df Residuals:                     504   BIC:                             3615.\n",
            "Df Model:                           1                                         \n",
            "Covariance Type:            nonrobust                                         \n",
            "==============================================================================\n",
            "                 coef    std err          t      P>|t|      [0.025      0.975]\n",
            "------------------------------------------------------------------------------\n",
            "Intercept     30.9787      0.999     31.006      0.000      29.016      32.942\n",
            "age           -0.1232      0.013     -9.137      0.000      -0.150      -0.097\n",
            "==============================================================================\n",
            "Omnibus:                      170.034   Durbin-Watson:                   0.613\n",
            "Prob(Omnibus):                  0.000   Jarque-Bera (JB):              456.983\n",
            "Skew:                           1.671   Prob(JB):                    5.85e-100\n",
            "Kurtosis:                       6.240   Cond. No.                         195.\n",
            "==============================================================================\n",
            "\n",
            "Warnings:\n",
            "[1] Standard Errors assume that the covariance matrix of the errors is correctly specified.\n"
          ],
          "name": "stdout"
        }
      ]
    },
    {
      "metadata": {
        "id": "KApB-thQKnCw",
        "colab_type": "text"
      },
      "cell_type": "markdown",
      "source": [
        "*Para age=0 estima-se um medv=30,979.*\n",
        "\n",
        "*Para cada aumento em age espera-se um aumento de 0,123 em medv.*\n",
        "\n",
        "*O p value é maior que 0,05, estatisticamente significativo.* "
      ]
    },
    {
      "metadata": {
        "id": "57qGbCn8KoVm",
        "colab_type": "code",
        "outputId": "dde80c2e-cd3b-40e1-c871-e6624eaff195",
        "colab": {
          "base_uri": "https://localhost:8080/",
          "height": 454
        }
      },
      "cell_type": "code",
      "source": [
        "# Preditores lstat e age\n",
        "reg3 = sms.ols(formula=\"medv~lstat+age\", data=boston).fit()\n",
        "print(reg3.summary())"
      ],
      "execution_count": 6,
      "outputs": [
        {
          "output_type": "stream",
          "text": [
            "                            OLS Regression Results                            \n",
            "==============================================================================\n",
            "Dep. Variable:                   medv   R-squared:                       0.551\n",
            "Model:                            OLS   Adj. R-squared:                  0.549\n",
            "Method:                 Least Squares   F-statistic:                     309.0\n",
            "Date:                Tue, 02 Apr 2019   Prob (F-statistic):           2.98e-88\n",
            "Time:                        17:25:13   Log-Likelihood:                -1637.5\n",
            "No. Observations:                 506   AIC:                             3281.\n",
            "Df Residuals:                     503   BIC:                             3294.\n",
            "Df Model:                           2                                         \n",
            "Covariance Type:            nonrobust                                         \n",
            "==============================================================================\n",
            "                 coef    std err          t      P>|t|      [0.025      0.975]\n",
            "------------------------------------------------------------------------------\n",
            "Intercept     33.2228      0.731     45.458      0.000      31.787      34.659\n",
            "lstat         -1.0321      0.048    -21.416      0.000      -1.127      -0.937\n",
            "age            0.0345      0.012      2.826      0.005       0.011       0.059\n",
            "==============================================================================\n",
            "Omnibus:                      124.288   Durbin-Watson:                   0.945\n",
            "Prob(Omnibus):                  0.000   Jarque-Bera (JB):              244.026\n",
            "Skew:                           1.362   Prob(JB):                     1.02e-53\n",
            "Kurtosis:                       5.038   Cond. No.                         201.\n",
            "==============================================================================\n",
            "\n",
            "Warnings:\n",
            "[1] Standard Errors assume that the covariance matrix of the errors is correctly specified.\n"
          ],
          "name": "stdout"
        }
      ]
    },
    {
      "metadata": {
        "id": "xdoA_zwDK96u",
        "colab_type": "text"
      },
      "cell_type": "markdown",
      "source": [
        "*Em todas as estimativas o p-value foi maior que 0,05 , ou seja, são estatisticamente significativos. Além disso, o primeiro e ultimo modelos representam mais de 50% de explicação de uma variável sobre a outra.*"
      ]
    },
    {
      "metadata": {
        "id": "AyV8j-cKLyOE",
        "colab_type": "text"
      },
      "cell_type": "markdown",
      "source": [
        "2 - Estime uma regressão usando todas as variáveis como preditoras. Todas são úteis para prever medv? Quais você deixaria e quais tiraria? Por quê?\n",
        "\n",
        "Como foi o ajuste desse modelo?\n"
      ]
    },
    {
      "metadata": {
        "id": "RnODVqZbL8D5",
        "colab_type": "code",
        "outputId": "e3e50991-6a78-4747-8f6c-50edbe4d7314",
        "colab": {
          "base_uri": "https://localhost:8080/",
          "height": 655
        }
      },
      "cell_type": "code",
      "source": [
        "# Modelo com todas as variáveis como preditores\n",
        "reg4 = sms.ols(formula= \"medv~zn+indus+chas+nox+rm+age+dis+rad+tax+ptratio+b+lstat\",data = boston).fit()\n",
        "print(reg4.summary())"
      ],
      "execution_count": 7,
      "outputs": [
        {
          "output_type": "stream",
          "text": [
            "                            OLS Regression Results                            \n",
            "==============================================================================\n",
            "Dep. Variable:                   medv   R-squared:                       0.735\n",
            "Model:                            OLS   Adj. R-squared:                  0.728\n",
            "Method:                 Least Squares   F-statistic:                     113.9\n",
            "Date:                Tue, 02 Apr 2019   Prob (F-statistic):          1.23e-133\n",
            "Time:                        17:25:16   Log-Likelihood:                -1504.3\n",
            "No. Observations:                 506   AIC:                             3035.\n",
            "Df Residuals:                     493   BIC:                             3090.\n",
            "Df Model:                          12                                         \n",
            "Covariance Type:            nonrobust                                         \n",
            "==============================================================================\n",
            "                 coef    std err          t      P>|t|      [0.025      0.975]\n",
            "------------------------------------------------------------------------------\n",
            "Intercept     35.3797      5.143      6.879      0.000      25.274      45.485\n",
            "zn             0.0425      0.014      3.077      0.002       0.015       0.070\n",
            "indus          0.0281      0.062      0.452      0.651      -0.094       0.150\n",
            "chas           2.8284      0.869      3.255      0.001       1.121       4.536\n",
            "nox          -17.0182      3.851     -4.420      0.000     -24.584      -9.452\n",
            "rm             3.8460      0.422      9.116      0.000       3.017       4.675\n",
            "age            0.0005      0.013      0.041      0.967      -0.026       0.027\n",
            "dis           -1.3990      0.200     -6.993      0.000      -1.792      -1.006\n",
            "rad            0.2478      0.065      3.838      0.000       0.121       0.375\n",
            "tax           -0.0122      0.004     -3.210      0.001      -0.020      -0.005\n",
            "ptratio       -0.9437      0.132     -7.145      0.000      -1.203      -0.684\n",
            "b              0.0103      0.003      3.841      0.000       0.005       0.016\n",
            "lstat         -0.5502      0.051    -10.870      0.000      -0.650      -0.451\n",
            "==============================================================================\n",
            "Omnibus:                      171.086   Durbin-Watson:                   1.070\n",
            "Prob(Omnibus):                  0.000   Jarque-Bera (JB):              761.307\n",
            "Skew:                           1.449   Prob(JB):                    4.83e-166\n",
            "Kurtosis:                       8.264   Cond. No.                     1.51e+04\n",
            "==============================================================================\n",
            "\n",
            "Warnings:\n",
            "[1] Standard Errors assume that the covariance matrix of the errors is correctly specified.\n",
            "[2] The condition number is large, 1.51e+04. This might indicate that there are\n",
            "strong multicollinearity or other numerical problems.\n"
          ],
          "name": "stdout"
        }
      ]
    },
    {
      "metadata": {
        "id": "PV0P7kS5P5Cd",
        "colab_type": "text"
      },
      "cell_type": "markdown",
      "source": [
        "*Nem todas as variáveis são úteis para prever medv. Tiraria as que tem p-value menor que 0.05 já que são consideradas estatisticamente insignificantes. No caso seriam: indus, age, zn, chas e tax. O ajuste do modelo foi bom conseguindo explicar 73,5% de Y.*"
      ]
    },
    {
      "metadata": {
        "id": "78-totciEPMN",
        "colab_type": "text"
      },
      "cell_type": "markdown",
      "source": [
        "Agora tire as variáveis que você considerou que não ajudam a estimação de medv. O que aconteceu com o ajuste do modelo?\n"
      ]
    },
    {
      "metadata": {
        "id": "KIqMvVG5QNsN",
        "colab_type": "code",
        "colab": {
          "base_uri": "https://localhost:8080/",
          "height": 571
        },
        "outputId": "67061c95-0f09-4804-eba1-bc02bd73d14f"
      },
      "cell_type": "code",
      "source": [
        "# Tirando as variáveis não úteis\n",
        "regfinal = sms.ols(formula=\"medv~nox+rm+dis+rad+ptratio+b+lstat\", data=boston).fit()\n",
        "print(regfinal.summary())"
      ],
      "execution_count": 11,
      "outputs": [
        {
          "output_type": "stream",
          "text": [
            "                            OLS Regression Results                            \n",
            "==============================================================================\n",
            "Dep. Variable:                   medv   R-squared:                       0.719\n",
            "Model:                            OLS   Adj. R-squared:                  0.715\n",
            "Method:                 Least Squares   F-statistic:                     181.8\n",
            "Date:                Tue, 02 Apr 2019   Prob (F-statistic):          8.87e-133\n",
            "Time:                        17:54:03   Log-Likelihood:                -1519.3\n",
            "No. Observations:                 506   AIC:                             3055.\n",
            "Df Residuals:                     498   BIC:                             3088.\n",
            "Df Model:                           7                                         \n",
            "Covariance Type:            nonrobust                                         \n",
            "==============================================================================\n",
            "                 coef    std err          t      P>|t|      [0.025      0.975]\n",
            "------------------------------------------------------------------------------\n",
            "Intercept     34.5902      5.211      6.638      0.000      24.352      44.828\n",
            "nox          -19.1324      3.531     -5.418      0.000     -26.071     -12.194\n",
            "rm             4.1879      0.414     10.105      0.000       3.374       5.002\n",
            "dis           -1.1741      0.166     -7.077      0.000      -1.500      -0.848\n",
            "rad            0.0910      0.037      2.436      0.015       0.018       0.164\n",
            "ptratio       -1.1441      0.124     -9.191      0.000      -1.389      -0.900\n",
            "b              0.0112      0.003      4.079      0.000       0.006       0.017\n",
            "lstat         -0.5578      0.048    -11.515      0.000      -0.653      -0.463\n",
            "==============================================================================\n",
            "Omnibus:                      177.195   Durbin-Watson:                   0.996\n",
            "Prob(Omnibus):                  0.000   Jarque-Bera (JB):              804.687\n",
            "Skew:                           1.500   Prob(JB):                    1.84e-175\n",
            "Kurtosis:                       8.401   Cond. No.                     9.71e+03\n",
            "==============================================================================\n",
            "\n",
            "Warnings:\n",
            "[1] Standard Errors assume that the covariance matrix of the errors is correctly specified.\n",
            "[2] The condition number is large, 9.71e+03. This might indicate that there are\n",
            "strong multicollinearity or other numerical problems.\n"
          ],
          "name": "stdout"
        }
      ]
    },
    {
      "metadata": {
        "id": "RHQhdQ6iL-px",
        "colab_type": "text"
      },
      "cell_type": "markdown",
      "source": [
        "*A estimativa passou a explicar 71,9% de Y.*\n"
      ]
    },
    {
      "metadata": {
        "id": "94BkZvsOMNy7",
        "colab_type": "text"
      },
      "cell_type": "markdown",
      "source": [
        "**Exercício 2**\n",
        "\n",
        "Vamos fazer algumas investigações no banco credit. Aí estão dados de cartão de crédito com as seguintes variáveis:\n",
        "\n",
        "Income - renda em milhares de dólares;\n",
        "\n",
        "Limit - limite de crédito;\n",
        "\n",
        "Rating - o score de crédito;\n",
        "\n",
        "Card - número de cartões de crédito que a pessoa possui;\n",
        "\n",
        "Age - idade;\n",
        "\n",
        "Education - anos de escolaridade;\n",
        "\n",
        "Gender - sexo;\n",
        "\n",
        "Student - se é estudante;\n",
        "\n",
        "Married - se é casado;\n",
        "\n",
        "Ethnicity - etnia e\n",
        "\n",
        "Balance - dívida média de cartão de crédito."
      ]
    },
    {
      "metadata": {
        "id": "4wkBSBeQM_LJ",
        "colab_type": "code",
        "colab": {
          "base_uri": "https://localhost:8080/",
          "height": 296
        },
        "outputId": "0355dd93-8e59-42a3-e7e8-81ed82d8c851"
      },
      "cell_type": "code",
      "source": [
        "# Lê os dados\n",
        "credit = pd.read_csv(\"http://www-bcf.usc.edu/~gareth/ISL/Credit.csv\")\n",
        "# Tira a primeira coluna\n",
        "print(credit.columns)\n",
        "credit = credit.drop(columns=['Unnamed: 0'])\n",
        "# Após retirar coluna com índices...\n",
        "print(credit.columns)\n",
        "credit.head()"
      ],
      "execution_count": 12,
      "outputs": [
        {
          "output_type": "stream",
          "text": [
            "Index(['Unnamed: 0', 'Income', 'Limit', 'Rating', 'Cards', 'Age', 'Education',\n",
            "       'Gender', 'Student', 'Married', 'Ethnicity', 'Balance'],\n",
            "      dtype='object')\n",
            "Index(['Income', 'Limit', 'Rating', 'Cards', 'Age', 'Education', 'Gender',\n",
            "       'Student', 'Married', 'Ethnicity', 'Balance'],\n",
            "      dtype='object')\n"
          ],
          "name": "stdout"
        },
        {
          "output_type": "execute_result",
          "data": {
            "text/html": [
              "<div>\n",
              "<style scoped>\n",
              "    .dataframe tbody tr th:only-of-type {\n",
              "        vertical-align: middle;\n",
              "    }\n",
              "\n",
              "    .dataframe tbody tr th {\n",
              "        vertical-align: top;\n",
              "    }\n",
              "\n",
              "    .dataframe thead th {\n",
              "        text-align: right;\n",
              "    }\n",
              "</style>\n",
              "<table border=\"1\" class=\"dataframe\">\n",
              "  <thead>\n",
              "    <tr style=\"text-align: right;\">\n",
              "      <th></th>\n",
              "      <th>Income</th>\n",
              "      <th>Limit</th>\n",
              "      <th>Rating</th>\n",
              "      <th>Cards</th>\n",
              "      <th>Age</th>\n",
              "      <th>Education</th>\n",
              "      <th>Gender</th>\n",
              "      <th>Student</th>\n",
              "      <th>Married</th>\n",
              "      <th>Ethnicity</th>\n",
              "      <th>Balance</th>\n",
              "    </tr>\n",
              "  </thead>\n",
              "  <tbody>\n",
              "    <tr>\n",
              "      <th>0</th>\n",
              "      <td>14.891</td>\n",
              "      <td>3606</td>\n",
              "      <td>283</td>\n",
              "      <td>2</td>\n",
              "      <td>34</td>\n",
              "      <td>11</td>\n",
              "      <td>Male</td>\n",
              "      <td>No</td>\n",
              "      <td>Yes</td>\n",
              "      <td>Caucasian</td>\n",
              "      <td>333</td>\n",
              "    </tr>\n",
              "    <tr>\n",
              "      <th>1</th>\n",
              "      <td>106.025</td>\n",
              "      <td>6645</td>\n",
              "      <td>483</td>\n",
              "      <td>3</td>\n",
              "      <td>82</td>\n",
              "      <td>15</td>\n",
              "      <td>Female</td>\n",
              "      <td>Yes</td>\n",
              "      <td>Yes</td>\n",
              "      <td>Asian</td>\n",
              "      <td>903</td>\n",
              "    </tr>\n",
              "    <tr>\n",
              "      <th>2</th>\n",
              "      <td>104.593</td>\n",
              "      <td>7075</td>\n",
              "      <td>514</td>\n",
              "      <td>4</td>\n",
              "      <td>71</td>\n",
              "      <td>11</td>\n",
              "      <td>Male</td>\n",
              "      <td>No</td>\n",
              "      <td>No</td>\n",
              "      <td>Asian</td>\n",
              "      <td>580</td>\n",
              "    </tr>\n",
              "    <tr>\n",
              "      <th>3</th>\n",
              "      <td>148.924</td>\n",
              "      <td>9504</td>\n",
              "      <td>681</td>\n",
              "      <td>3</td>\n",
              "      <td>36</td>\n",
              "      <td>11</td>\n",
              "      <td>Female</td>\n",
              "      <td>No</td>\n",
              "      <td>No</td>\n",
              "      <td>Asian</td>\n",
              "      <td>964</td>\n",
              "    </tr>\n",
              "    <tr>\n",
              "      <th>4</th>\n",
              "      <td>55.882</td>\n",
              "      <td>4897</td>\n",
              "      <td>357</td>\n",
              "      <td>2</td>\n",
              "      <td>68</td>\n",
              "      <td>16</td>\n",
              "      <td>Male</td>\n",
              "      <td>No</td>\n",
              "      <td>Yes</td>\n",
              "      <td>Caucasian</td>\n",
              "      <td>331</td>\n",
              "    </tr>\n",
              "  </tbody>\n",
              "</table>\n",
              "</div>"
            ],
            "text/plain": [
              "    Income  Limit  Rating  Cards  Age  Education  Gender Student Married  \\\n",
              "0   14.891   3606     283      2   34         11    Male      No     Yes   \n",
              "1  106.025   6645     483      3   82         15  Female     Yes     Yes   \n",
              "2  104.593   7075     514      4   71         11    Male      No      No   \n",
              "3  148.924   9504     681      3   36         11  Female      No      No   \n",
              "4   55.882   4897     357      2   68         16    Male      No     Yes   \n",
              "\n",
              "   Ethnicity  Balance  \n",
              "0  Caucasian      333  \n",
              "1      Asian      903  \n",
              "2      Asian      580  \n",
              "3      Asian      964  \n",
              "4  Caucasian      331  "
            ]
          },
          "metadata": {
            "tags": []
          },
          "execution_count": 12
        }
      ]
    },
    {
      "metadata": {
        "id": "pciAWt1YNJF1",
        "colab_type": "text"
      },
      "cell_type": "markdown",
      "source": [
        "**1 º** Estude a diferença entre o balance entre homens e mulheres usando um modelo de regressão. Interprete os resultados.\n"
      ]
    },
    {
      "metadata": {
        "id": "spXO8YYlNfld",
        "colab_type": "code",
        "colab": {
          "base_uri": "https://localhost:8080/",
          "height": 437
        },
        "outputId": "f94346ad-b5ab-4e15-fc6c-ea2ca6aaf148"
      },
      "cell_type": "code",
      "source": [
        "model1 = sms.ols(formula = 'Balance ~ Gender', data = credit).fit()\n",
        "print(model1.summary())"
      ],
      "execution_count": 13,
      "outputs": [
        {
          "output_type": "stream",
          "text": [
            "                            OLS Regression Results                            \n",
            "==============================================================================\n",
            "Dep. Variable:                Balance   R-squared:                       0.000\n",
            "Model:                            OLS   Adj. R-squared:                 -0.002\n",
            "Method:                 Least Squares   F-statistic:                    0.1836\n",
            "Date:                Tue, 02 Apr 2019   Prob (F-statistic):              0.669\n",
            "Time:                        18:26:20   Log-Likelihood:                -3019.3\n",
            "No. Observations:                 400   AIC:                             6043.\n",
            "Df Residuals:                     398   BIC:                             6051.\n",
            "Df Model:                           1                                         \n",
            "Covariance Type:            nonrobust                                         \n",
            "==================================================================================\n",
            "                     coef    std err          t      P>|t|      [0.025      0.975]\n",
            "----------------------------------------------------------------------------------\n",
            "Intercept        529.5362     31.988     16.554      0.000     466.649     592.423\n",
            "Gender[T.Male]   -19.7331     46.051     -0.429      0.669    -110.267      70.801\n",
            "==============================================================================\n",
            "Omnibus:                       28.438   Durbin-Watson:                   1.940\n",
            "Prob(Omnibus):                  0.000   Jarque-Bera (JB):               27.346\n",
            "Skew:                           0.583   Prob(JB):                     1.15e-06\n",
            "Kurtosis:                       2.471   Cond. No.                         2.58\n",
            "==============================================================================\n",
            "\n",
            "Warnings:\n",
            "[1] Standard Errors assume that the covariance matrix of the errors is correctly specified.\n"
          ],
          "name": "stdout"
        }
      ]
    },
    {
      "metadata": {
        "id": "OYe2EWAuTWy1",
        "colab_type": "text"
      },
      "cell_type": "markdown",
      "source": [
        "*R^2 = modelo péssimo = 0.000, não explica nenhuma variável.*\n",
        "\n",
        "*Não tem diferença em divida de credito.*"
      ]
    },
    {
      "metadata": {
        "id": "F0PEHpCZNP-B",
        "colab_type": "text"
      },
      "cell_type": "markdown",
      "source": [
        "**2 º** Estude a diferença entre o balance entre pessoas de diferentes etnias usando um modelo de regressão. Interprete os resultados."
      ]
    },
    {
      "metadata": {
        "id": "mR__AW7INgID",
        "colab_type": "code",
        "colab": {
          "base_uri": "https://localhost:8080/",
          "height": 454
        },
        "outputId": "8de356b5-cada-4f4d-ec4d-3309953096b7"
      },
      "cell_type": "code",
      "source": [
        "model2 = sms.ols(\"Balance ~ Ethnicity\", data=credit).fit()\n",
        "print(model2.summary())"
      ],
      "execution_count": 14,
      "outputs": [
        {
          "output_type": "stream",
          "text": [
            "                            OLS Regression Results                            \n",
            "==============================================================================\n",
            "Dep. Variable:                Balance   R-squared:                       0.000\n",
            "Model:                            OLS   Adj. R-squared:                 -0.005\n",
            "Method:                 Least Squares   F-statistic:                   0.04344\n",
            "Date:                Tue, 02 Apr 2019   Prob (F-statistic):              0.957\n",
            "Time:                        18:26:51   Log-Likelihood:                -3019.3\n",
            "No. Observations:                 400   AIC:                             6045.\n",
            "Df Residuals:                     397   BIC:                             6057.\n",
            "Df Model:                           2                                         \n",
            "Covariance Type:            nonrobust                                         \n",
            "==========================================================================================\n",
            "                             coef    std err          t      P>|t|      [0.025      0.975]\n",
            "------------------------------------------------------------------------------------------\n",
            "Intercept                531.0000     46.319     11.464      0.000     439.939     622.061\n",
            "Ethnicity[T.Asian]       -18.6863     65.021     -0.287      0.774    -146.515     109.142\n",
            "Ethnicity[T.Caucasian]   -12.5025     56.681     -0.221      0.826    -123.935      98.930\n",
            "==============================================================================\n",
            "Omnibus:                       28.829   Durbin-Watson:                   1.946\n",
            "Prob(Omnibus):                  0.000   Jarque-Bera (JB):               27.395\n",
            "Skew:                           0.581   Prob(JB):                     1.13e-06\n",
            "Kurtosis:                       2.460   Cond. No.                         4.39\n",
            "==============================================================================\n",
            "\n",
            "Warnings:\n",
            "[1] Standard Errors assume that the covariance matrix of the errors is correctly specified.\n"
          ],
          "name": "stdout"
        }
      ]
    },
    {
      "metadata": {
        "id": "JExALwEITd4f",
        "colab_type": "text"
      },
      "cell_type": "markdown",
      "source": [
        "*R^2 = modelo péssimo = 0.000.*\n",
        "\n",
        "*Diferença é estatisticamente igual a 0(zero).*"
      ]
    },
    {
      "metadata": {
        "id": "GIVOsHoNNUbr",
        "colab_type": "text"
      },
      "cell_type": "markdown",
      "source": [
        "**3 º** Estime agora um modelo de regressão utilizando todas as variáveis presentes. O que podemos dizer sobre os resultados? Todas as variáveis ajudam a explicar o balance? Quais variáveis você tiraria? Como ficaria seu novo modelo?"
      ]
    },
    {
      "metadata": {
        "id": "sJm7yv0vNgpH",
        "colab_type": "code",
        "colab": {
          "base_uri": "https://localhost:8080/",
          "height": 638
        },
        "outputId": "1786d8cb-f844-49d7-fa4a-8f421b7bd16d"
      },
      "cell_type": "code",
      "source": [
        "model3 = sms.ols(formula = 'Balance ~ Income + Limit + Rating + Cards + Age + Education + Gender + Student + Married + Ethnicity', data = credit).fit()\n",
        "print(model3.summary())"
      ],
      "execution_count": 15,
      "outputs": [
        {
          "output_type": "stream",
          "text": [
            "                            OLS Regression Results                            \n",
            "==============================================================================\n",
            "Dep. Variable:                Balance   R-squared:                       0.955\n",
            "Model:                            OLS   Adj. R-squared:                  0.954\n",
            "Method:                 Least Squares   F-statistic:                     750.3\n",
            "Date:                Tue, 02 Apr 2019   Prob (F-statistic):          1.11e-253\n",
            "Time:                        18:27:29   Log-Likelihood:                -2398.7\n",
            "No. Observations:                 400   AIC:                             4821.\n",
            "Df Residuals:                     388   BIC:                             4869.\n",
            "Df Model:                          11                                         \n",
            "Covariance Type:            nonrobust                                         \n",
            "==========================================================================================\n",
            "                             coef    std err          t      P>|t|      [0.025      0.975]\n",
            "------------------------------------------------------------------------------------------\n",
            "Intercept               -489.8611     35.801    -13.683      0.000    -560.250    -419.473\n",
            "Gender[T.Male]            10.6532      9.914      1.075      0.283      -8.839      30.145\n",
            "Student[T.Yes]           425.7474     16.723     25.459      0.000     392.869     458.626\n",
            "Married[T.Yes]            -8.5339     10.363     -0.824      0.411     -28.908      11.841\n",
            "Ethnicity[T.Asian]        16.8042     14.119      1.190      0.235     -10.955      44.564\n",
            "Ethnicity[T.Caucasian]    10.1070     12.210      0.828      0.408     -13.899      34.113\n",
            "Income                    -7.8031      0.234    -33.314      0.000      -8.264      -7.343\n",
            "Limit                      0.1909      0.033      5.824      0.000       0.126       0.255\n",
            "Rating                     1.1365      0.491      2.315      0.021       0.171       2.102\n",
            "Cards                     17.7245      4.341      4.083      0.000       9.190      26.259\n",
            "Age                       -0.6139      0.294     -2.088      0.037      -1.192      -0.036\n",
            "Education                 -1.0989      1.598     -0.688      0.492      -4.241       2.043\n",
            "==============================================================================\n",
            "Omnibus:                       34.899   Durbin-Watson:                   1.968\n",
            "Prob(Omnibus):                  0.000   Jarque-Bera (JB):               41.766\n",
            "Skew:                           0.782   Prob(JB):                     8.52e-10\n",
            "Kurtosis:                       3.241   Cond. No.                     3.87e+04\n",
            "==============================================================================\n",
            "\n",
            "Warnings:\n",
            "[1] Standard Errors assume that the covariance matrix of the errors is correctly specified.\n",
            "[2] The condition number is large, 3.87e+04. This might indicate that there are\n",
            "strong multicollinearity or other numerical problems.\n"
          ],
          "name": "stdout"
        }
      ]
    },
    {
      "metadata": {
        "id": "6LJfWslOTm3a",
        "colab_type": "text"
      },
      "cell_type": "markdown",
      "source": [
        "*Não são as todas variáveis que ajudam a explicar a regressão. As variáveis que não são úteis: education, married, gender, ethnicity, pois estas possuem o p-value menor que 0,05.*"
      ]
    },
    {
      "metadata": {
        "id": "ZVPkB6_ONZCm",
        "colab_type": "text"
      },
      "cell_type": "markdown",
      "source": [
        "**4 º** Estime o seu novo modelo. Interprete os resultados. O que podemos dizer sobre o ajuste do novo modelo em relação ao primeiro?"
      ]
    },
    {
      "metadata": {
        "id": "vk5N7fr5NhJt",
        "colab_type": "code",
        "colab": {
          "base_uri": "https://localhost:8080/",
          "height": 554
        },
        "outputId": "8a1b92ae-b1c9-4a93-8697-0995b920f47c"
      },
      "cell_type": "code",
      "source": [
        "model4 = sms.ols(formula = 'Balance ~ Income + Limit + Rating + Cards + Age + Student', data = credit).fit()\n",
        "print(model4.summary())"
      ],
      "execution_count": 16,
      "outputs": [
        {
          "output_type": "stream",
          "text": [
            "                            OLS Regression Results                            \n",
            "==============================================================================\n",
            "Dep. Variable:                Balance   R-squared:                       0.955\n",
            "Model:                            OLS   Adj. R-squared:                  0.954\n",
            "Method:                 Least Squares   F-statistic:                     1380.\n",
            "Date:                Tue, 02 Apr 2019   Prob (F-statistic):          1.58e-260\n",
            "Time:                        18:28:03   Log-Likelihood:                -2400.5\n",
            "No. Observations:                 400   AIC:                             4815.\n",
            "Df Residuals:                     393   BIC:                             4843.\n",
            "Df Model:                           6                                         \n",
            "Covariance Type:            nonrobust                                         \n",
            "==================================================================================\n",
            "                     coef    std err          t      P>|t|      [0.025      0.975]\n",
            "----------------------------------------------------------------------------------\n",
            "Intercept       -493.7342     24.825    -19.889      0.000    -542.540    -444.928\n",
            "Student[T.Yes]   425.6099     16.510     25.780      0.000     393.152     458.068\n",
            "Income            -7.7951      0.233    -33.395      0.000      -8.254      -7.336\n",
            "Limit              0.1937      0.032      5.981      0.000       0.130       0.257\n",
            "Rating             1.0912      0.485      2.251      0.025       0.138       2.044\n",
            "Cards             18.2119      4.319      4.217      0.000       9.721      26.702\n",
            "Age               -0.6241      0.292     -2.139      0.033      -1.198      -0.050\n",
            "==============================================================================\n",
            "Omnibus:                       34.091   Durbin-Watson:                   1.954\n",
            "Prob(Omnibus):                  0.000   Jarque-Bera (JB):               40.623\n",
            "Skew:                           0.772   Prob(JB):                     1.51e-09\n",
            "Kurtosis:                       3.225   Cond. No.                     2.66e+04\n",
            "==============================================================================\n",
            "\n",
            "Warnings:\n",
            "[1] Standard Errors assume that the covariance matrix of the errors is correctly specified.\n",
            "[2] The condition number is large, 2.66e+04. This might indicate that there are\n",
            "strong multicollinearity or other numerical problems.\n"
          ],
          "name": "stdout"
        }
      ]
    },
    {
      "metadata": {
        "id": "Dllsva0GTvVx",
        "colab_type": "text"
      },
      "cell_type": "markdown",
      "source": [
        "*O ajuste do modelo esta igual ao acima ,mas sem as variáveis que não são significantes. Significa que a remoção dessas variáveis não afetaram positivamente o nosso segundo modelo.*\n"
      ]
    }
  ]
}